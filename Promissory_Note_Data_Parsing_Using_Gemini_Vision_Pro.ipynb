{
  "nbformat": 4,
  "nbformat_minor": 0,
  "metadata": {
    "colab": {
      "provenance": [],
      "authorship_tag": "ABX9TyNSGWaiQ4bDeLI3fj6MqTHg",
      "include_colab_link": true
    },
    "kernelspec": {
      "name": "python3",
      "display_name": "Python 3"
    },
    "language_info": {
      "name": "python"
    }
  },
  "cells": [
    {
      "cell_type": "markdown",
      "metadata": {
        "id": "view-in-github",
        "colab_type": "text"
      },
      "source": [
        "<a href=\"https://colab.research.google.com/github/Aftabbs/Debt-Instrument-Data-Extraction-Using-Google-Gemini/blob/main/Promissory_Note_Data_Parsing_Using_Gemini_Vision_Pro.ipynb\" target=\"_parent\"><img src=\"https://colab.research.google.com/assets/colab-badge.svg\" alt=\"Open In Colab\"/></a>"
      ]
    },
    {
      "cell_type": "code",
      "source": [
        "from google.colab import drive\n",
        "drive.mount('/content/drive')"
      ],
      "metadata": {
        "id": "F8wI3BklXdfH"
      },
      "execution_count": null,
      "outputs": []
    },
    {
      "cell_type": "code",
      "source": [],
      "metadata": {
        "id": "6WzjgU75Xoyp"
      },
      "execution_count": null,
      "outputs": []
    },
    {
      "cell_type": "code",
      "source": [
        "# Model\n",
        "\n",
        "! pip install -q --upgrade google-generativeai langchain-google-genai python-dotenv\n"
      ],
      "metadata": {
        "id": "AGGa9DhR-Ia1",
        "colab": {
          "base_uri": "https://localhost:8080/"
        },
        "outputId": "a7404681-466d-42b1-a4a5-4d912d11a3d5"
      },
      "execution_count": null,
      "outputs": [
        {
          "output_type": "stream",
          "name": "stdout",
          "text": [
            "\u001b[2K     \u001b[90m━━━━━━━━━━━━━━━━━━━━━━━━━━━━━━━━━━━━━━━━\u001b[0m \u001b[32m237.0/237.0 kB\u001b[0m \u001b[31m5.4 MB/s\u001b[0m eta \u001b[36m0:00:00\u001b[0m\n",
            "\u001b[2K     \u001b[90m━━━━━━━━━━━━━━━━━━━━━━━━━━━━━━━━━━━━━━━━\u001b[0m \u001b[32m54.4/54.4 kB\u001b[0m \u001b[31m6.9 MB/s\u001b[0m eta \u001b[36m0:00:00\u001b[0m\n",
            "\u001b[?25h"
          ]
        }
      ]
    },
    {
      "cell_type": "markdown",
      "source": [],
      "metadata": {
        "id": "OIK2j5eNon8h"
      }
    },
    {
      "cell_type": "code",
      "source": [
        "!echo -e 'GOOGLE_API_KEY=API_KEY' > .env"
      ],
      "metadata": {
        "id": "tq4QVOry-sL4"
      },
      "execution_count": null,
      "outputs": []
    },
    {
      "cell_type": "code",
      "source": [
        "!ls -a"
      ],
      "metadata": {
        "colab": {
          "base_uri": "https://localhost:8080/"
        },
        "id": "wMVdINYS-zD5",
        "outputId": "43870203-2b3c-4b06-c2b8-70d6ddd54deb"
      },
      "execution_count": null,
      "outputs": [
        {
          "output_type": "stream",
          "name": "stdout",
          "text": [
            ".  ..  .config\t.env  sample_data\n"
          ]
        }
      ]
    },
    {
      "cell_type": "code",
      "source": [
        "from dotenv import load_dotenv\n",
        "load_dotenv()"
      ],
      "metadata": {
        "id": "qLbFDNMg-0b5",
        "colab": {
          "base_uri": "https://localhost:8080/"
        },
        "outputId": "496b225b-4468-4e3b-f1d7-d0a66e7ba753"
      },
      "execution_count": null,
      "outputs": [
        {
          "output_type": "execute_result",
          "data": {
            "text/plain": [
              "True"
            ]
          },
          "metadata": {},
          "execution_count": 4
        }
      ]
    },
    {
      "cell_type": "code",
      "source": [
        "from IPython.display import display\n",
        "from IPython.display import Markdown\n",
        "import textwrap\n",
        "\n",
        "\n",
        "def to_markdown(text):\n",
        "  text = text.replace('•', '  *')\n",
        "  return Markdown(textwrap.indent(text, '> ', predicate=lambda _: True))"
      ],
      "metadata": {
        "id": "yX-ZAiSe-5Ms"
      },
      "execution_count": null,
      "outputs": []
    },
    {
      "cell_type": "code",
      "source": [
        "\n",
        "import google.generativeai as genai"
      ],
      "metadata": {
        "id": "so9BgXjK-805"
      },
      "execution_count": null,
      "outputs": []
    },
    {
      "cell_type": "code",
      "source": [
        "import os\n",
        "genai.configure(api_key=os.environ.get(\"GOOGLE_API_KEY\"))"
      ],
      "metadata": {
        "id": "vwN4uIk9-8L3"
      },
      "execution_count": null,
      "outputs": []
    },
    {
      "cell_type": "markdown",
      "source": [
        "data requirements ![image.png](data:image/png;base64,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)"
      ],
      "metadata": {
        "id": "apFG03U7AFx6"
      }
    },
    {
      "cell_type": "markdown",
      "source": [],
      "metadata": {
        "id": "NXEpqyoKmKEv"
      }
    },
    {
      "cell_type": "code",
      "source": [
        "var=Borrower,Guarantor,Lender,Note Holder,Prinicipal Amount,Note Start,Note End,Principal Payment Schedule,Interest Rate,Interest Payment Schedule,Interest Type,Interest Calculation,Collateral(descripton Of Land),Signed/Unsigned(yes/No)."
      ],
      "metadata": {
        "id": "-s58dI0kAVm7"
      },
      "execution_count": null,
      "outputs": []
    },
    {
      "cell_type": "code",
      "source": [
        "# Tune Model\n",
        "generation_config = {\n",
        "  \"temperature\": 0.55,\n",
        "  \"top_p\": 0.75,\n",
        "  \"top_k\": 27,\n",
        "  \"max_output_tokens\": 4098,\n",
        "}"
      ],
      "metadata": {
        "id": "2o1ubSr1wvps"
      },
      "execution_count": null,
      "outputs": []
    },
    {
      "cell_type": "code",
      "source": [
        "from langchain_core.messages import HumanMessage\n",
        "from langchain_google_genai import ChatGoogleGenerativeAI\n",
        "\n",
        "llm = ChatGoogleGenerativeAI(model=\"gemini-pro-vision\",generation_config=generation_config)\n",
        "\n",
        "message = HumanMessage(\n",
        "    content=[\n",
        "        {\n",
        "            \"type\": \"text\",\n",
        "            \"text\": \"Convert Debt instrument data like Borrower,Guarantor(if Found Mention else NG),Lender,Note Holder(if found mention else mention No Note Holder),Prinicipal Amount(Ballon/Monthly),Note Start Date(MM-DD-YY),Note Maturity Date(MM-DD-YY),Principal Payment Schedule(Ballon/Monthly),Interest Rate(Only In %),Interest Payment Schedule(Ballon/Monthly/Other),Interest Type(Fixed/Variable),Interest Calculation(For how many days interest is Calculated/360),Collateral(descripton Of Land),Document Signed/Unsigned(yes/No),into json format with appropriate json tags as required for the data in image \",\n",
        "        },\n",
        "        {\"type\": \"image_url\", \"image_url\": \"/content/Usertest8.PNG\"},\n",
        "    ]\n",
        ")\n",
        "message1=llm.invoke([message])\n",
        "# response=print(message1.content)\n",
        "# response"
      ],
      "metadata": {
        "id": "MhLB8EA3rK1V"
      },
      "execution_count": null,
      "outputs": []
    },
    {
      "cell_type": "code",
      "source": [
        "# Automate response of AI To DataFrame"
      ],
      "metadata": {
        "id": "TSp9cZv03-8o"
      },
      "execution_count": null,
      "outputs": []
    },
    {
      "cell_type": "code",
      "source": [
        "import pandas as pd\n",
        "import json\n",
        "\n",
        "columns = [\"UserID\",\"Borrower\", \"Guarantor\", \"Lender\", \"Note Holder\", \"Principal Amount\",\n",
        "           \"Note Start Date\", \"Note Maturity Date\", \"Principal Payment Schedule\", \"Interest Rate\",\n",
        "           \"Interest Payment Schedule\", \"Interest Type\",\"Interest Calculation\",\"Collateral\",\"Document Signed/Unsigned\"]\n",
        "df = pd.DataFrame(columns=columns)"
      ],
      "metadata": {
        "id": "yFuUnhiy4IHM"
      },
      "execution_count": null,
      "outputs": []
    },
    {
      "cell_type": "code",
      "source": [
        "\n",
        "data_str = message1.content.replace(\"```json\\n\", \"\").replace(\"```\", \"\").strip()\n",
        "\n",
        "try:\n",
        "    data = json.loads(data_str)\n",
        "\n",
        "    df = df.append(pd.Series(data, index=columns), ignore_index=True)\n",
        "\n",
        "    df.head()\n",
        "\n",
        "except json.JSONDecodeError as e:\n",
        "    print(f\"Error decoding JSON: {e}\")\n",
        "    print(f\"Raw content: {data_str}\")\n",
        "\n",
        "except json.JSONDecodeError as e:\n",
        "    print(f\"Error decoding JSON: {e}\")\n",
        "    print(f\"Raw content: {data_str}\")\n"
      ],
      "metadata": {
        "colab": {
          "base_uri": "https://localhost:8080/"
        },
        "id": "dSF8Voosri-P",
        "outputId": "4d159dab-fd2f-468b-afa4-fc564b75d082"
      },
      "execution_count": null,
      "outputs": [
        {
          "output_type": "stream",
          "name": "stderr",
          "text": [
            "<ipython-input-41-0a726414d428>:8: FutureWarning: The frame.append method is deprecated and will be removed from pandas in a future version. Use pandas.concat instead.\n",
            "  df = df.append(pd.Series(data, index=columns), ignore_index=True)\n"
          ]
        }
      ]
    },
    {
      "cell_type": "code",
      "source": [
        "df.head(10)"
      ],
      "metadata": {
        "colab": {
          "base_uri": "https://localhost:8080/",
          "height": 945
        },
        "id": "KVvvyUiJ3A0l",
        "outputId": "c91c15eb-f04a-4e65-fd53-d268e265ca1c"
      },
      "execution_count": null,
      "outputs": [
        {
          "output_type": "execute_result",
          "data": {
            "text/plain": [
              "          UserID                                         Borrower Guarantor  \\\n",
              "0  Usertest1.png                                  RICHARD LABICKI        NG   \n",
              "1  Usertest2.png                                    Jay D. Dudley        NG   \n",
              "2  Usertest3.png                               Triple Creek Trust        NG   \n",
              "3  Usertest4.png                                     LaGrange, GA        NG   \n",
              "4  Usertest5.png                               Forced Physics LLC        NG   \n",
              "5  Usertest6.png                                  RICHARD LABICKI        NG   \n",
              "6  Usertest7.png  Walldox, LLC, a Texas Limited Liability Company        NG   \n",
              "7  Usertest8.png                         HEMET CHRISTIAN ASSEMBLY        NG   \n",
              "\n",
              "                                              Lender           Note Holder  \\\n",
              "0                                       Tyler, Texas        No Note Holder   \n",
              "1                  Real Estate Lending Group, L.L.C.        No Note Holder   \n",
              "2  Equity Trust Company Custodian FBO Craig Dean ...        No Note Holder   \n",
              "3                               Equity Trust Company        No Note Holder   \n",
              "4  Equity Trust Company dba Sterling Trust fbo St...        No Note Holder   \n",
              "5                               No Lender Name Found  No Note Holder Found   \n",
              "6  Equity Trust Company, Custodian, FBO Rebecca D...        No Note Holder   \n",
              "7  Equity Trust Company Custodian FBO William Wol...        No Note Holder   \n",
              "\n",
              "                                    Principal Amount Note Start Date  \\\n",
              "0                                         $54,000.00      02-13-2012   \n",
              "1                                        $130,000.00      05-25-2012   \n",
              "2                                        $523,250.00      03-15-2021   \n",
              "3                                           $150,000      04-11-2017   \n",
              "4                                         $50,000.00      10-25-2012   \n",
              "5                                         $53,000.00      05-15-2013   \n",
              "6  Three Hundred Thousand and No/100 Dollars ($30...      02-21-2022   \n",
              "7                                        $865,000.00      12-14-2022   \n",
              "\n",
              "  Note Maturity Date Principal Payment Schedule        Interest Rate  \\\n",
              "0         02-13-2027                    Monthly                  10%   \n",
              "1         07-01-2013                    Monthly               12.00%   \n",
              "2         12-15-2031                    Monthly                3.00%   \n",
              "3         04-11-2022                    Monthly                 4.5%   \n",
              "4         10-25-2015                    Monthly                   8%   \n",
              "5         05-15-2038                    Monthly                  10%   \n",
              "6         03-23-2027                    Monthly  Five Percent (5.0%)   \n",
              "7         12-14-2052                    Monthly                6.75%   \n",
              "\n",
              "  Interest Payment Schedule Interest Type Interest Calculation  \\\n",
              "0                   Monthly         Fixed                  360   \n",
              "1                   Monthly         Fixed                  360   \n",
              "2                   Monthly         Fixed                  360   \n",
              "3                   Monthly         Fixed                  360   \n",
              "4                   Monthly         Fixed                  360   \n",
              "5                   Monthly         Fixed                  360   \n",
              "6                   Monthly         Fixed                  360   \n",
              "7                   Monthly         Fixed                  360   \n",
              "\n",
              "                                          Collateral Document Signed/Unsigned  \n",
              "0                                               Land                      yes  \n",
              "1  All that certain tract or parcel of land lying...                      Yes  \n",
              "2  Property secured by Mortgage and Promissory No...                      yes  \n",
              "3                                Description of Land                      Yes  \n",
              "4                                Description of Land                      Yes  \n",
              "5                      Description of Land Not Found                      Yes  \n",
              "6                                Description of Land                      Yes  \n",
              "7                                Description of Land                      Yes  "
            ],
            "text/html": [
              "\n",
              "  <div id=\"df-0e0d40c0-a661-4275-90fc-d71cf0656541\" class=\"colab-df-container\">\n",
              "    <div>\n",
              "<style scoped>\n",
              "    .dataframe tbody tr th:only-of-type {\n",
              "        vertical-align: middle;\n",
              "    }\n",
              "\n",
              "    .dataframe tbody tr th {\n",
              "        vertical-align: top;\n",
              "    }\n",
              "\n",
              "    .dataframe thead th {\n",
              "        text-align: right;\n",
              "    }\n",
              "</style>\n",
              "<table border=\"1\" class=\"dataframe\">\n",
              "  <thead>\n",
              "    <tr style=\"text-align: right;\">\n",
              "      <th></th>\n",
              "      <th>UserID</th>\n",
              "      <th>Borrower</th>\n",
              "      <th>Guarantor</th>\n",
              "      <th>Lender</th>\n",
              "      <th>Note Holder</th>\n",
              "      <th>Principal Amount</th>\n",
              "      <th>Note Start Date</th>\n",
              "      <th>Note Maturity Date</th>\n",
              "      <th>Principal Payment Schedule</th>\n",
              "      <th>Interest Rate</th>\n",
              "      <th>Interest Payment Schedule</th>\n",
              "      <th>Interest Type</th>\n",
              "      <th>Interest Calculation</th>\n",
              "      <th>Collateral</th>\n",
              "      <th>Document Signed/Unsigned</th>\n",
              "    </tr>\n",
              "  </thead>\n",
              "  <tbody>\n",
              "    <tr>\n",
              "      <th>0</th>\n",
              "      <td>Usertest1.png</td>\n",
              "      <td>RICHARD LABICKI</td>\n",
              "      <td>NG</td>\n",
              "      <td>Tyler, Texas</td>\n",
              "      <td>No Note Holder</td>\n",
              "      <td>$54,000.00</td>\n",
              "      <td>02-13-2012</td>\n",
              "      <td>02-13-2027</td>\n",
              "      <td>Monthly</td>\n",
              "      <td>10%</td>\n",
              "      <td>Monthly</td>\n",
              "      <td>Fixed</td>\n",
              "      <td>360</td>\n",
              "      <td>Land</td>\n",
              "      <td>yes</td>\n",
              "    </tr>\n",
              "    <tr>\n",
              "      <th>1</th>\n",
              "      <td>Usertest2.png</td>\n",
              "      <td>Jay D. Dudley</td>\n",
              "      <td>NG</td>\n",
              "      <td>Real Estate Lending Group, L.L.C.</td>\n",
              "      <td>No Note Holder</td>\n",
              "      <td>$130,000.00</td>\n",
              "      <td>05-25-2012</td>\n",
              "      <td>07-01-2013</td>\n",
              "      <td>Monthly</td>\n",
              "      <td>12.00%</td>\n",
              "      <td>Monthly</td>\n",
              "      <td>Fixed</td>\n",
              "      <td>360</td>\n",
              "      <td>All that certain tract or parcel of land lying...</td>\n",
              "      <td>Yes</td>\n",
              "    </tr>\n",
              "    <tr>\n",
              "      <th>2</th>\n",
              "      <td>Usertest3.png</td>\n",
              "      <td>Triple Creek Trust</td>\n",
              "      <td>NG</td>\n",
              "      <td>Equity Trust Company Custodian FBO Craig Dean ...</td>\n",
              "      <td>No Note Holder</td>\n",
              "      <td>$523,250.00</td>\n",
              "      <td>03-15-2021</td>\n",
              "      <td>12-15-2031</td>\n",
              "      <td>Monthly</td>\n",
              "      <td>3.00%</td>\n",
              "      <td>Monthly</td>\n",
              "      <td>Fixed</td>\n",
              "      <td>360</td>\n",
              "      <td>Property secured by Mortgage and Promissory No...</td>\n",
              "      <td>yes</td>\n",
              "    </tr>\n",
              "    <tr>\n",
              "      <th>3</th>\n",
              "      <td>Usertest4.png</td>\n",
              "      <td>LaGrange, GA</td>\n",
              "      <td>NG</td>\n",
              "      <td>Equity Trust Company</td>\n",
              "      <td>No Note Holder</td>\n",
              "      <td>$150,000</td>\n",
              "      <td>04-11-2017</td>\n",
              "      <td>04-11-2022</td>\n",
              "      <td>Monthly</td>\n",
              "      <td>4.5%</td>\n",
              "      <td>Monthly</td>\n",
              "      <td>Fixed</td>\n",
              "      <td>360</td>\n",
              "      <td>Description of Land</td>\n",
              "      <td>Yes</td>\n",
              "    </tr>\n",
              "    <tr>\n",
              "      <th>4</th>\n",
              "      <td>Usertest5.png</td>\n",
              "      <td>Forced Physics LLC</td>\n",
              "      <td>NG</td>\n",
              "      <td>Equity Trust Company dba Sterling Trust fbo St...</td>\n",
              "      <td>No Note Holder</td>\n",
              "      <td>$50,000.00</td>\n",
              "      <td>10-25-2012</td>\n",
              "      <td>10-25-2015</td>\n",
              "      <td>Monthly</td>\n",
              "      <td>8%</td>\n",
              "      <td>Monthly</td>\n",
              "      <td>Fixed</td>\n",
              "      <td>360</td>\n",
              "      <td>Description of Land</td>\n",
              "      <td>Yes</td>\n",
              "    </tr>\n",
              "    <tr>\n",
              "      <th>5</th>\n",
              "      <td>Usertest6.png</td>\n",
              "      <td>RICHARD LABICKI</td>\n",
              "      <td>NG</td>\n",
              "      <td>No Lender Name Found</td>\n",
              "      <td>No Note Holder Found</td>\n",
              "      <td>$53,000.00</td>\n",
              "      <td>05-15-2013</td>\n",
              "      <td>05-15-2038</td>\n",
              "      <td>Monthly</td>\n",
              "      <td>10%</td>\n",
              "      <td>Monthly</td>\n",
              "      <td>Fixed</td>\n",
              "      <td>360</td>\n",
              "      <td>Description of Land Not Found</td>\n",
              "      <td>Yes</td>\n",
              "    </tr>\n",
              "    <tr>\n",
              "      <th>6</th>\n",
              "      <td>Usertest7.png</td>\n",
              "      <td>Walldox, LLC, a Texas Limited Liability Company</td>\n",
              "      <td>NG</td>\n",
              "      <td>Equity Trust Company, Custodian, FBO Rebecca D...</td>\n",
              "      <td>No Note Holder</td>\n",
              "      <td>Three Hundred Thousand and No/100 Dollars ($30...</td>\n",
              "      <td>02-21-2022</td>\n",
              "      <td>03-23-2027</td>\n",
              "      <td>Monthly</td>\n",
              "      <td>Five Percent (5.0%)</td>\n",
              "      <td>Monthly</td>\n",
              "      <td>Fixed</td>\n",
              "      <td>360</td>\n",
              "      <td>Description of Land</td>\n",
              "      <td>Yes</td>\n",
              "    </tr>\n",
              "    <tr>\n",
              "      <th>7</th>\n",
              "      <td>Usertest8.png</td>\n",
              "      <td>HEMET CHRISTIAN ASSEMBLY</td>\n",
              "      <td>NG</td>\n",
              "      <td>Equity Trust Company Custodian FBO William Wol...</td>\n",
              "      <td>No Note Holder</td>\n",
              "      <td>$865,000.00</td>\n",
              "      <td>12-14-2022</td>\n",
              "      <td>12-14-2052</td>\n",
              "      <td>Monthly</td>\n",
              "      <td>6.75%</td>\n",
              "      <td>Monthly</td>\n",
              "      <td>Fixed</td>\n",
              "      <td>360</td>\n",
              "      <td>Description of Land</td>\n",
              "      <td>Yes</td>\n",
              "    </tr>\n",
              "  </tbody>\n",
              "</table>\n",
              "</div>\n",
              "    <div class=\"colab-df-buttons\">\n",
              "\n",
              "  <div class=\"colab-df-container\">\n",
              "    <button class=\"colab-df-convert\" onclick=\"convertToInteractive('df-0e0d40c0-a661-4275-90fc-d71cf0656541')\"\n",
              "            title=\"Convert this dataframe to an interactive table.\"\n",
              "            style=\"display:none;\">\n",
              "\n",
              "  <svg xmlns=\"http://www.w3.org/2000/svg\" height=\"24px\" viewBox=\"0 -960 960 960\">\n",
              "    <path d=\"M120-120v-720h720v720H120Zm60-500h600v-160H180v160Zm220 220h160v-160H400v160Zm0 220h160v-160H400v160ZM180-400h160v-160H180v160Zm440 0h160v-160H620v160ZM180-180h160v-160H180v160Zm440 0h160v-160H620v160Z\"/>\n",
              "  </svg>\n",
              "    </button>\n",
              "\n",
              "  <style>\n",
              "    .colab-df-container {\n",
              "      display:flex;\n",
              "      gap: 12px;\n",
              "    }\n",
              "\n",
              "    .colab-df-convert {\n",
              "      background-color: #E8F0FE;\n",
              "      border: none;\n",
              "      border-radius: 50%;\n",
              "      cursor: pointer;\n",
              "      display: none;\n",
              "      fill: #1967D2;\n",
              "      height: 32px;\n",
              "      padding: 0 0 0 0;\n",
              "      width: 32px;\n",
              "    }\n",
              "\n",
              "    .colab-df-convert:hover {\n",
              "      background-color: #E2EBFA;\n",
              "      box-shadow: 0px 1px 2px rgba(60, 64, 67, 0.3), 0px 1px 3px 1px rgba(60, 64, 67, 0.15);\n",
              "      fill: #174EA6;\n",
              "    }\n",
              "\n",
              "    .colab-df-buttons div {\n",
              "      margin-bottom: 4px;\n",
              "    }\n",
              "\n",
              "    [theme=dark] .colab-df-convert {\n",
              "      background-color: #3B4455;\n",
              "      fill: #D2E3FC;\n",
              "    }\n",
              "\n",
              "    [theme=dark] .colab-df-convert:hover {\n",
              "      background-color: #434B5C;\n",
              "      box-shadow: 0px 1px 3px 1px rgba(0, 0, 0, 0.15);\n",
              "      filter: drop-shadow(0px 1px 2px rgba(0, 0, 0, 0.3));\n",
              "      fill: #FFFFFF;\n",
              "    }\n",
              "  </style>\n",
              "\n",
              "    <script>\n",
              "      const buttonEl =\n",
              "        document.querySelector('#df-0e0d40c0-a661-4275-90fc-d71cf0656541 button.colab-df-convert');\n",
              "      buttonEl.style.display =\n",
              "        google.colab.kernel.accessAllowed ? 'block' : 'none';\n",
              "\n",
              "      async function convertToInteractive(key) {\n",
              "        const element = document.querySelector('#df-0e0d40c0-a661-4275-90fc-d71cf0656541');\n",
              "        const dataTable =\n",
              "          await google.colab.kernel.invokeFunction('convertToInteractive',\n",
              "                                                    [key], {});\n",
              "        if (!dataTable) return;\n",
              "\n",
              "        const docLinkHtml = 'Like what you see? Visit the ' +\n",
              "          '<a target=\"_blank\" href=https://colab.research.google.com/notebooks/data_table.ipynb>data table notebook</a>'\n",
              "          + ' to learn more about interactive tables.';\n",
              "        element.innerHTML = '';\n",
              "        dataTable['output_type'] = 'display_data';\n",
              "        await google.colab.output.renderOutput(dataTable, element);\n",
              "        const docLink = document.createElement('div');\n",
              "        docLink.innerHTML = docLinkHtml;\n",
              "        element.appendChild(docLink);\n",
              "      }\n",
              "    </script>\n",
              "  </div>\n",
              "\n",
              "\n",
              "<div id=\"df-76727f19-0651-40a5-b0ea-075feeac7a69\">\n",
              "  <button class=\"colab-df-quickchart\" onclick=\"quickchart('df-76727f19-0651-40a5-b0ea-075feeac7a69')\"\n",
              "            title=\"Suggest charts\"\n",
              "            style=\"display:none;\">\n",
              "\n",
              "<svg xmlns=\"http://www.w3.org/2000/svg\" height=\"24px\"viewBox=\"0 0 24 24\"\n",
              "     width=\"24px\">\n",
              "    <g>\n",
              "        <path d=\"M19 3H5c-1.1 0-2 .9-2 2v14c0 1.1.9 2 2 2h14c1.1 0 2-.9 2-2V5c0-1.1-.9-2-2-2zM9 17H7v-7h2v7zm4 0h-2V7h2v10zm4 0h-2v-4h2v4z\"/>\n",
              "    </g>\n",
              "</svg>\n",
              "  </button>\n",
              "\n",
              "<style>\n",
              "  .colab-df-quickchart {\n",
              "      --bg-color: #E8F0FE;\n",
              "      --fill-color: #1967D2;\n",
              "      --hover-bg-color: #E2EBFA;\n",
              "      --hover-fill-color: #174EA6;\n",
              "      --disabled-fill-color: #AAA;\n",
              "      --disabled-bg-color: #DDD;\n",
              "  }\n",
              "\n",
              "  [theme=dark] .colab-df-quickchart {\n",
              "      --bg-color: #3B4455;\n",
              "      --fill-color: #D2E3FC;\n",
              "      --hover-bg-color: #434B5C;\n",
              "      --hover-fill-color: #FFFFFF;\n",
              "      --disabled-bg-color: #3B4455;\n",
              "      --disabled-fill-color: #666;\n",
              "  }\n",
              "\n",
              "  .colab-df-quickchart {\n",
              "    background-color: var(--bg-color);\n",
              "    border: none;\n",
              "    border-radius: 50%;\n",
              "    cursor: pointer;\n",
              "    display: none;\n",
              "    fill: var(--fill-color);\n",
              "    height: 32px;\n",
              "    padding: 0;\n",
              "    width: 32px;\n",
              "  }\n",
              "\n",
              "  .colab-df-quickchart:hover {\n",
              "    background-color: var(--hover-bg-color);\n",
              "    box-shadow: 0 1px 2px rgba(60, 64, 67, 0.3), 0 1px 3px 1px rgba(60, 64, 67, 0.15);\n",
              "    fill: var(--button-hover-fill-color);\n",
              "  }\n",
              "\n",
              "  .colab-df-quickchart-complete:disabled,\n",
              "  .colab-df-quickchart-complete:disabled:hover {\n",
              "    background-color: var(--disabled-bg-color);\n",
              "    fill: var(--disabled-fill-color);\n",
              "    box-shadow: none;\n",
              "  }\n",
              "\n",
              "  .colab-df-spinner {\n",
              "    border: 2px solid var(--fill-color);\n",
              "    border-color: transparent;\n",
              "    border-bottom-color: var(--fill-color);\n",
              "    animation:\n",
              "      spin 1s steps(1) infinite;\n",
              "  }\n",
              "\n",
              "  @keyframes spin {\n",
              "    0% {\n",
              "      border-color: transparent;\n",
              "      border-bottom-color: var(--fill-color);\n",
              "      border-left-color: var(--fill-color);\n",
              "    }\n",
              "    20% {\n",
              "      border-color: transparent;\n",
              "      border-left-color: var(--fill-color);\n",
              "      border-top-color: var(--fill-color);\n",
              "    }\n",
              "    30% {\n",
              "      border-color: transparent;\n",
              "      border-left-color: var(--fill-color);\n",
              "      border-top-color: var(--fill-color);\n",
              "      border-right-color: var(--fill-color);\n",
              "    }\n",
              "    40% {\n",
              "      border-color: transparent;\n",
              "      border-right-color: var(--fill-color);\n",
              "      border-top-color: var(--fill-color);\n",
              "    }\n",
              "    60% {\n",
              "      border-color: transparent;\n",
              "      border-right-color: var(--fill-color);\n",
              "    }\n",
              "    80% {\n",
              "      border-color: transparent;\n",
              "      border-right-color: var(--fill-color);\n",
              "      border-bottom-color: var(--fill-color);\n",
              "    }\n",
              "    90% {\n",
              "      border-color: transparent;\n",
              "      border-bottom-color: var(--fill-color);\n",
              "    }\n",
              "  }\n",
              "</style>\n",
              "\n",
              "  <script>\n",
              "    async function quickchart(key) {\n",
              "      const quickchartButtonEl =\n",
              "        document.querySelector('#' + key + ' button');\n",
              "      quickchartButtonEl.disabled = true;  // To prevent multiple clicks.\n",
              "      quickchartButtonEl.classList.add('colab-df-spinner');\n",
              "      try {\n",
              "        const charts = await google.colab.kernel.invokeFunction(\n",
              "            'suggestCharts', [key], {});\n",
              "      } catch (error) {\n",
              "        console.error('Error during call to suggestCharts:', error);\n",
              "      }\n",
              "      quickchartButtonEl.classList.remove('colab-df-spinner');\n",
              "      quickchartButtonEl.classList.add('colab-df-quickchart-complete');\n",
              "    }\n",
              "    (() => {\n",
              "      let quickchartButtonEl =\n",
              "        document.querySelector('#df-76727f19-0651-40a5-b0ea-075feeac7a69 button');\n",
              "      quickchartButtonEl.style.display =\n",
              "        google.colab.kernel.accessAllowed ? 'block' : 'none';\n",
              "    })();\n",
              "  </script>\n",
              "</div>\n",
              "\n",
              "    </div>\n",
              "  </div>\n"
            ]
          },
          "metadata": {},
          "execution_count": 43
        }
      ]
    },
    {
      "cell_type": "code",
      "source": [
        "df.to_csv('TestAutomation Promissory Note', index=False)\n",
        "\n"
      ],
      "metadata": {
        "id": "EWZ_ot5e8oCA"
      },
      "execution_count": null,
      "outputs": []
    },
    {
      "cell_type": "code",
      "source": [
        "df['UserID'][7]='Usertest8.png'"
      ],
      "metadata": {
        "id": "IqVKKR5D4uQe"
      },
      "execution_count": null,
      "outputs": []
    },
    {
      "cell_type": "markdown",
      "source": [
        "from langchain_core.messages import HumanMessage\n",
        "from langchain_google_genai import ChatGoogleGenerativeAI\n",
        "\n",
        "llm = ChatGoogleGenerativeAI(model=\"gemini-pro-vision\",generation_config=generation_config)\n",
        "# example\n",
        "message = HumanMessage(\n",
        "    content=[\n",
        "        {\n",
        "            \"type\": \"text\",\n",
        "            \"text\": \"You are an expert in understanding debt instruments such as Promissory Note,Deed Of Trust etc,for the provided image fetch Borrower,Guarantor,Lender,Note Holder,Prinicipal Amount,Note Start,Note End,Principal Payment Schedule,Interest Rate,Interest Payment Schedule,Interest Type,Convert Invoice data into json format with appropriate json tags as required for the data in image \",\n",
        "        },\n",
        "        {\"type\": \"image_url\", \"image_url\": \"/content/Usertest1.PNG\"},\n",
        "    ]\n",
        ")\n",
        "llm.invoke([message])"
      ],
      "metadata": {
        "id": "3y9T5kvZ-3DM"
      }
    }
  ]
}